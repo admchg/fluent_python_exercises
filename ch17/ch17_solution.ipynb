{
 "cells": [
  {
   "cell_type": "code",
   "execution_count": 1,
   "metadata": {},
   "outputs": [],
   "source": [
    "from concurrent import futures\n",
    "import math\n",
    "import os\n",
    "import time\n",
    "import random"
   ]
  },
  {
   "cell_type": "code",
   "execution_count": 2,
   "metadata": {},
   "outputs": [],
   "source": [
    "# 1: Complete the functions `create_folders` using the function `create_each_folder_sleepily` and \n",
    "# concurrent.futures\n",
    "# Compare this with a sequential execution to check if you are getting any performance gains \n",
    "\n",
    "def create_each_folder_sleepily(path):\n",
    "    \"\"\"\n",
    "    Function to create a folder in the given path\n",
    "    \"\"\"\n",
    "    time.sleep(5)\n",
    "    os.mkdir(path)\n",
    "\n",
    "def create_folders(path_array):\n",
    "    \"\"\"\n",
    "    Function to create the folders parallely\n",
    "    \"\"\"\n",
    "    workers = 10\n",
    "    with futures.ThreadPoolExecutor(workers) as executor:\n",
    "        res = executor.map(create_each_folder_sleepily, path_array)  \n",
    "        \n",
    "    return len(path_array)"
   ]
  },
  {
   "cell_type": "code",
   "execution_count": 3,
   "metadata": {},
   "outputs": [],
   "source": [
    "def create_folders_seq(path_array):\n",
    "    \"\"\"\n",
    "    Function to create the folders parallely\n",
    "    \"\"\"\n",
    "    for path in path_array:\n",
    "        create_each_folder_sleepily(path)\n",
    "        \n",
    "    return len(path_array)"
   ]
  },
  {
   "cell_type": "code",
   "execution_count": 4,
   "metadata": {},
   "outputs": [
    {
     "name": "stdout",
     "output_type": "stream",
     "text": [
      "Function create_folders run in 5.01 seconds.\n"
     ]
    }
   ],
   "source": [
    "parent_folder = os.getcwd() + '/test' + str(random.randint(0, 10000))\n",
    "os.mkdir(parent_folder)\n",
    "path_array = [parent_folder + '/' + str(x) for x in range(0, 10)]\n",
    "\n",
    "t0 = time.time()\n",
    "create_folders(path_array)\n",
    "elapsed = time.time() - t0\n",
    "print(f\"\"\"Function create_folders run in {round(elapsed, 2)} seconds.\"\"\")\n"
   ]
  },
  {
   "cell_type": "code",
   "execution_count": 5,
   "metadata": {},
   "outputs": [
    {
     "name": "stdout",
     "output_type": "stream",
     "text": [
      "Function create_folders_seq run in 50.04 seconds.\n"
     ]
    }
   ],
   "source": [
    "parent_folder = os.getcwd() + '/test' + str(random.randint(0, 10000))\n",
    "os.mkdir(parent_folder)\n",
    "path_array = [parent_folder + '/' + str(x) for x in range(0, 10)]\n",
    "\n",
    "t0 = time.time()\n",
    "create_folders_seq(path_array)\n",
    "elapsed = time.time() - t0\n",
    "print(f\"\"\"Function create_folders_seq run in {round(elapsed, 2)} seconds.\"\"\")\n"
   ]
  },
  {
   "cell_type": "code",
   "execution_count": 6,
   "metadata": {},
   "outputs": [],
   "source": [
    "# Exercise 2: Write a function `count_primes` to count the number of prime numbers in a given list \n",
    "# and return the count and using concurrent.futures\n",
    "# Compare this with a sequential execution to see if you are getting any performance gains\n",
    "\n",
    "def is_prime(n):\n",
    "\n",
    "    if n < 2:\n",
    "        return False\n",
    "    if n == 2:\n",
    "        return True\n",
    "    if n % 2 == 0:\n",
    "        return False\n",
    "\n",
    "    sqrt_n = int(math.sqrt(n))\n",
    "    for i in range(3, sqrt_n + 1, 2):\n",
    "        if n % i == 0:\n",
    "            return False\n",
    "        \n",
    "    return True\n",
    "\n",
    "\n",
    "def count_primes(n_array):\n",
    "    \"\"\"\n",
    "    >>> count_primes([10, 11, 39, 101])\n",
    "    2\n",
    "    \n",
    "    >>> count_primes([10, 13, 39, 113, 1087, 2209, 9409, 36481, 78233])\n",
    "    4\n",
    "    \n",
    "    >>> count_primes([112272535095293, 9985805041, 1099726899285419])\n",
    "    1\n",
    "    \n",
    "    \"\"\"\n",
    "    \n",
    "    with futures.ProcessPoolExecutor() as executor:\n",
    "        res = executor.map(is_prime, n_array)  \n",
    "        \n",
    "    return sum(list(res))"
   ]
  },
  {
   "cell_type": "code",
   "execution_count": 7,
   "metadata": {},
   "outputs": [],
   "source": [
    "def count_primes_seq(n_array):\n",
    "    \"\"\"\n",
    "    >>> count_primes_seq([10, 11, 39, 101])\n",
    "    2\n",
    "    \n",
    "    >>> count_primes_seq([10, 13, 39, 113, 1087, 2209, 9409, 36481, 78233])\n",
    "    4\n",
    "    \n",
    "    \"\"\"\n",
    "    \n",
    "    res = []\n",
    "    for number in n_array:\n",
    "        res.append(is_prime(number))\n",
    "    \n",
    "    return sum(list(res))"
   ]
  },
  {
   "cell_type": "code",
   "execution_count": 8,
   "metadata": {},
   "outputs": [
    {
     "name": "stdout",
     "output_type": "stream",
     "text": [
      "Function count_primes run in 0.7 seconds.\n"
     ]
    }
   ],
   "source": [
    "t0 = time.time()\n",
    "count = count_primes([112272535095293, 9985805041, 1099726899285419])\n",
    "elapsed = time.time() - t0\n",
    "print(f\"\"\"Function count_primes run in {round(elapsed, 2)} seconds.\"\"\")\n",
    "assert(count == 1)"
   ]
  },
  {
   "cell_type": "code",
   "execution_count": 9,
   "metadata": {},
   "outputs": [
    {
     "name": "stdout",
     "output_type": "stream",
     "text": [
      "Function count_primes_seq run in 0.77 seconds.\n"
     ]
    }
   ],
   "source": [
    "t0 = time.time()\n",
    "count = count_primes_seq([112272535095293, 9985805041, 1099726899285419])\n",
    "elapsed = time.time() - t0\n",
    "print(f\"\"\"Function count_primes_seq run in {round(elapsed, 2)} seconds.\"\"\")\n",
    "assert(count == 1)"
   ]
  },
  {
   "cell_type": "code",
   "execution_count": null,
   "metadata": {},
   "outputs": [],
   "source": []
  }
 ],
 "metadata": {
  "@webio": {
   "lastCommId": null,
   "lastKernelId": null
  },
  "kernelspec": {
   "display_name": "Python 3",
   "language": "python",
   "name": "python3"
  },
  "language_info": {
   "codemirror_mode": {
    "name": "ipython",
    "version": 3
   },
   "file_extension": ".py",
   "mimetype": "text/x-python",
   "name": "python",
   "nbconvert_exporter": "python",
   "pygments_lexer": "ipython3",
   "version": "3.7.6"
  }
 },
 "nbformat": 4,
 "nbformat_minor": 4
}
