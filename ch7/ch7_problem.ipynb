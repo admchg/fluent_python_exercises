{
 "cells": [
  {
   "cell_type": "markdown",
   "metadata": {},
   "source": [
    "# Ch 7 Problem"
   ]
  },
  {
   "cell_type": "markdown",
   "metadata": {},
   "source": [
    "At a fictional company, you have way too many meetings (labeled $0, \\dots, n-1$) scheduled this week.\n",
    "\n",
    "The meetings take time, given by array meeting_hours = $[h_0, \\dots, h_{n-1}]$. There are too many, so you can't attend all of them, but many are useful, with values given by array meeting_useful = $[u_0, \\dots, u_{n-1}]$.\n",
    "\n",
    "If you start with total hours $t=20$, what's the maximum amount of usefulness you can get from your meetings?"
   ]
  },
  {
   "cell_type": "markdown",
   "metadata": {},
   "source": [
    "## Part 1"
   ]
  },
  {
   "cell_type": "markdown",
   "metadata": {},
   "source": [
    "Fill in the function recursive_solution, to return the maximum usefulness\n",
    "you can get from your meetings, starting with total hours t\n",
    "\n",
    "Your function should be purely recursive, meaning:\n",
    "- There should not be any inner functions\n",
    "- There should not be any data structures\n",
    "\n",
    "Don't change the function signature! Avoid list splicing; use index instead. Also, we need to use keyword arguments here - you'll see why."
   ]
  },
  {
   "cell_type": "code",
   "execution_count": null,
   "metadata": {},
   "outputs": [],
   "source": [
    "meeting_hours = [1, 1.5, 1.5, 1.5, 2, 2, 2.5, 2.5, 3] * 3\n",
    "meeting_useful = [1, 0, 2, 1, 4, 2, 2, 3, 3] * 3"
   ]
  },
  {
   "cell_type": "code",
   "execution_count": null,
   "metadata": {},
   "outputs": [],
   "source": [
    "@count_calls\n",
    "@memoize\n",
    "def recursive_solution(*, t, index): # DON'T CHANGE FUNCTION SIGNATURE\n",
    "    pass"
   ]
  },
  {
   "cell_type": "code",
   "execution_count": null,
   "metadata": {},
   "outputs": [],
   "source": [
    "recursive_solution(t=20, index=0)"
   ]
  },
  {
   "cell_type": "markdown",
   "metadata": {},
   "source": [
    "## Part 2 - Write a decorator!\n",
    "\n",
    "Write a decorator count_calls to count the total number of times that your recursive_solution is called. Hint: since functions are objects, you can add attributes!\n",
    "\n",
    "Add it to your function above. Don't change anything else in the original function!\n",
    "\n",
    "How many times was recursive_solution called for the inputs above? "
   ]
  },
  {
   "cell_type": "code",
   "execution_count": null,
   "metadata": {},
   "outputs": [],
   "source": [
    "def count_calls(func):\n",
    "    return func"
   ]
  },
  {
   "cell_type": "code",
   "execution_count": null,
   "metadata": {},
   "outputs": [],
   "source": [
    "recursive_solution(t=20, index=0)"
   ]
  },
  {
   "cell_type": "code",
   "execution_count": null,
   "metadata": {},
   "outputs": [],
   "source": [
    "print(recursive_solution.call_count)"
   ]
  },
  {
   "cell_type": "markdown",
   "metadata": {},
   "source": [
    "## Part 3 - Write another decorator!\n",
    "\n",
    "Now write a decorator memoize to memoize recursive_solution! Again, do not modify anything in recursive_solution. And don't just use lru_cache!\n",
    "\n",
    "How many calls, if you memoize?"
   ]
  },
  {
   "cell_type": "code",
   "execution_count": null,
   "metadata": {},
   "outputs": [],
   "source": [
    "def memoize(func):\n",
    "    return func    "
   ]
  },
  {
   "cell_type": "code",
   "execution_count": null,
   "metadata": {},
   "outputs": [],
   "source": [
    "recursive_solution(t=20, index=0)"
   ]
  },
  {
   "cell_type": "code",
   "execution_count": null,
   "metadata": {},
   "outputs": [],
   "source": [
    "print(recursive_solution.call_count)"
   ]
  }
 ],
 "metadata": {
  "kernelspec": {
   "display_name": "Python 3",
   "language": "python",
   "name": "python3"
  },
  "language_info": {
   "codemirror_mode": {
    "name": "ipython",
    "version": 3
   },
   "file_extension": ".py",
   "mimetype": "text/x-python",
   "name": "python",
   "nbconvert_exporter": "python",
   "pygments_lexer": "ipython3",
   "version": "3.8.5"
  }
 },
 "nbformat": 4,
 "nbformat_minor": 4
}
