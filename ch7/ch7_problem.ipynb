{
 "cells": [
  {
   "cell_type": "markdown",
   "metadata": {},
   "source": [
    "# Ch 7 Problem"
   ]
  },
  {
   "cell_type": "markdown",
   "metadata": {},
   "source": [
    "At a fictional company, you have way too many meetings (labeled $0, \\dots, n-1$) scheduled this week.\n",
    "\n",
    "The meetings take time, given by array meeting_hours = $[h_0, \\dots, h_{n-1}]$. There are too many, so you can't attend all of them, but many are useful, with values given by array meeting_useful = $[u_0, \\dots, u_{n-1}]$.\n",
    "\n",
    "If you start with total hours $t=20$, what's the maximum amount of usefulness you can get from your meetings?"
   ]
  },
  {
   "cell_type": "markdown",
   "metadata": {},
   "source": [
    "## Part 1"
   ]
  },
  {
   "cell_type": "markdown",
   "metadata": {},
   "source": [
    "Fill in the function recursive_solution, to return the maximum usefulness\n",
    "you can get from your meetings, starting with total hours t\n",
    "\n",
    "Your function should be purely recursive, meaning:\n",
    "- There should not be any inner functions\n",
    "- There should not be any data structures\n",
    "\n",
    "Don't change the function signature! Avoid list splicing; use index instead. Also, we need to use keyword arguments here - you'll see why."
   ]
  },
  {
   "cell_type": "code",
   "execution_count": 1,
   "metadata": {},
   "outputs": [],
   "source": [
    "meeting_hours = [1, 1.5, 1.5, 1.5, 2, 2, 2.5, 2.5, 3] * 3\n",
    "meeting_useful = [1, 0, 2, 1, 4, 2, 2, 3, 3] * 3"
   ]
  },
  {
   "cell_type": "code",
   "execution_count": 98,
   "metadata": {},
   "outputs": [],
   "source": [
    "import time\n",
    "\n",
    "def clock(func):\n",
    "    def clocked(*args, **kwargs):\n",
    "        t0 = time.time()\n",
    "        result = func(*args, **kwargs)\n",
    "        elapsed = time.time() - t0\n",
    "        name = func.__name__\n",
    "        arg_str = ', '.join(repr(arg) for arg in args)\n",
    "        print('[%0.8fs] %s(%s) -> %r' % (elapsed, name, arg_str, result))\n",
    "        return result\n",
    "    return clocked"
   ]
  },
  {
   "cell_type": "code",
   "execution_count": 401,
   "metadata": {},
   "outputs": [],
   "source": [
    "from functools import lru_cache\n",
    "\n",
    "@count_calls\n",
    "@memoize\n",
    "# @lru_cache()\n",
    "# @clock\n",
    "def recursive_solution(*, t, index): # DON'T CHANGE FUNCTION SIGNATURE\n",
    "    if t <= meeting_hours[index]:\n",
    "        return 0\n",
    "    else:\n",
    "        return meeting_useful[index] + recursive_solution(\n",
    "            t=t - meeting_hours[index], index=index + 1\n",
    "        )"
   ]
  },
  {
   "cell_type": "code",
   "execution_count": 305,
   "metadata": {},
   "outputs": [
    {
     "output_type": "execute_result",
     "data": {
      "text/plain": [
       "19"
      ]
     },
     "metadata": {},
     "execution_count": 305
    }
   ],
   "source": [
    "recursive_solution(t=20, index=0)"
   ]
  },
  {
   "cell_type": "markdown",
   "metadata": {},
   "source": [
    "## Part 2 - Write a decorator!\n",
    "\n",
    "Write a decorator count_calls to count the total number of times that your recursive_solution is called. Hint: since functions are objects, you can add attributes!\n",
    "\n",
    "Add it to your function above. Don't change anything else in the original function!\n",
    "\n",
    "How many times was recursive_solution called for the inputs above? "
   ]
  },
  {
   "cell_type": "code",
   "execution_count": 151,
   "metadata": {},
   "outputs": [],
   "source": [
    "def count_calls(func):\n",
    "    count_calls.call_count = 1\n",
    "    def wrapped(*args, **kwargs):\n",
    "        res = func(*args, **kwargs)\n",
    "        count_calls.call_count += 1\n",
    "        return res\n",
    "    return wrapped"
   ]
  },
  {
   "cell_type": "code",
   "execution_count": 173,
   "metadata": {},
   "outputs": [
    {
     "output_type": "execute_result",
     "data": {
      "text/plain": [
       "19"
      ]
     },
     "metadata": {},
     "execution_count": 173
    }
   ],
   "source": [
    "recursive_solution(t=20, index=0)"
   ]
  },
  {
   "cell_type": "code",
   "execution_count": 174,
   "metadata": {},
   "outputs": [
    {
     "output_type": "stream",
     "name": "stdout",
     "text": [
      "117\n"
     ]
    }
   ],
   "source": [
    "print(count_calls.call_count)"
   ]
  },
  {
   "cell_type": "markdown",
   "metadata": {},
   "source": [
    "## Part 3 - Write another decorator!\n",
    "\n",
    "Now write a decorator memoize to memoize recursive_solution! Again, do not modify anything in recursive_solution. And don't just use lru_cache!\n",
    "\n",
    "How many calls, if you memoize?"
   ]
  },
  {
   "cell_type": "code",
   "execution_count": 400,
   "metadata": {},
   "outputs": [],
   "source": [
    "# can replace dict key with % 9 instead bc of 9 unique values. But not general so uwu \n",
    "def memoize(func):\n",
    "    memoize.cache = {}\n",
    "    def wrapper(*args, t, index):\n",
    "        if (t, meeting_hours[index], meeting_useful[index]) in memoize.cache:\n",
    "            return memoize.cache[(t, meeting_hours[index], meeting_useful[index])] \n",
    "        else:\n",
    "            res = func(*args, t=t, index=index)\n",
    "            memoize.cache[(t, meeting_hours[index], meeting_useful[index])] = res\n",
    "            return res\n",
    "    return wrapper    "
   ]
  },
  {
   "cell_type": "code",
   "execution_count": 411,
   "metadata": {},
   "outputs": [
    {
     "output_type": "execute_result",
     "data": {
      "text/plain": [
       "30"
      ]
     },
     "metadata": {},
     "execution_count": 411
    }
   ],
   "source": [
    "recursive_solution(t=30, index=0)"
   ]
  },
  {
   "cell_type": "code",
   "execution_count": 412,
   "metadata": {},
   "outputs": [
    {
     "output_type": "stream",
     "name": "stdout",
     "text": [
      "1\n"
     ]
    }
   ],
   "source": [
    "print(count_calls.call_count)"
   ]
  },
  {
   "cell_type": "code",
   "execution_count": 413,
   "metadata": {},
   "outputs": [],
   "source": [
    "count_calls.call_count = 0"
   ]
  },
  {
   "cell_type": "code",
   "execution_count": 406,
   "metadata": {},
   "outputs": [],
   "source": [
    "memoize.cache = {}"
   ]
  },
  {
   "cell_type": "code",
   "execution_count": 409,
   "metadata": {},
   "outputs": [
    {
     "output_type": "execute_result",
     "data": {
      "text/plain": [
       "{(0.5, 2.5, 3): 0,\n",
       " (3.0, 2.5, 2): 2,\n",
       " (5.0, 2, 2): 4,\n",
       " (7.0, 2, 4): 8,\n",
       " (8.5, 1.5, 1): 9,\n",
       " (10.0, 1.5, 2): 11,\n",
       " (11.5, 1.5, 0): 11,\n",
       " (12.5, 1, 1): 12,\n",
       " (15.5, 3, 3): 15,\n",
       " (18.0, 2.5, 3): 18,\n",
       " (20.5, 2.5, 2): 20,\n",
       " (22.5, 2, 2): 22,\n",
       " (24.5, 2, 4): 26,\n",
       " (26.0, 1.5, 1): 27,\n",
       " (27.5, 1.5, 2): 29,\n",
       " (29, 1.5, 0): 29,\n",
       " (30, 1, 1): 30}"
      ]
     },
     "metadata": {},
     "execution_count": 409
    }
   ],
   "source": [
    "memoize.cache"
   ]
  },
  {
   "cell_type": "code",
   "execution_count": null,
   "metadata": {},
   "outputs": [],
   "source": []
  }
 ],
 "metadata": {
  "kernelspec": {
   "display_name": "Python 3",
   "language": "python",
   "name": "python3"
  },
  "language_info": {
   "codemirror_mode": {
    "name": "ipython",
    "version": 3
   },
   "file_extension": ".py",
   "mimetype": "text/x-python",
   "name": "python",
   "nbconvert_exporter": "python",
   "pygments_lexer": "ipython3",
   "version": "3.8.0"
  }
 },
 "nbformat": 4,
 "nbformat_minor": 4
}