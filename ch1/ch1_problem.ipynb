{
 "cells": [
  {
   "cell_type": "markdown",
   "metadata": {},
   "source": [
    "# Chapter 1 Exercises\n",
    "\n",
    "(Adam)\n",
    "\n",
    "Nothing too complex or interesting, but good practice with the Python data/object model."
   ]
  },
  {
   "cell_type": "markdown",
   "metadata": {},
   "source": [
    "## Problem 1\n",
    "\n",
    "Write a Binary class that can be called with Binary(n), where n is an integer. The only attribute the class may have is a text representation of n in binary, so you should not save n except as a string representing n in binary. \n",
    "\n",
    "The representation of Binary(n) should be the string, e.g. str(Binary(7)) = \"111\".\n",
    "\n",
    "Finally, the class must support addition with another Binary object, and multiplication with an integer. All operations should be done without needing to convert anything; int(\"0\") or int(\"1\") is fine. In both cases, you should return a Binary object.\n",
    "\n",
    "No libraries are needed.\n",
    "\n",
    "Don't worry about dealing with zero!"
   ]
  },
  {
   "cell_type": "code",
   "execution_count": null,
   "metadata": {},
   "outputs": [],
   "source": [
    "class Binary:\n",
    "    def __init__(self, n):\n",
    "        pass\n",
    "        \n",
    "    def __repr__(self):\n",
    "        pass\n",
    "    \n",
    "    def __add__(self, other):\n",
    "        pass\n",
    "    \n",
    "    def __mul__(self, integer):\n",
    "        pass"
   ]
  },
  {
   "cell_type": "markdown",
   "metadata": {},
   "source": [
    "## Problem 1 Test Cases"
   ]
  },
  {
   "cell_type": "code",
   "execution_count": null,
   "metadata": {},
   "outputs": [],
   "source": [
    "import numpy as np\n",
    "\n",
    "def test():\n",
    "    x = np.random.randint(1, 1000, size=500)\n",
    "    y = np.random.randint(1, 1000, size=500)\n",
    "    z = x + y\n",
    "    w = x * y\n",
    "    \n",
    "    if not all([str(Binary(i)) == np.binary_repr(i) for i in x]):\n",
    "        return \"Failed\"\n",
    "    \n",
    "    if not all([str(Binary(x[k]) + Binary(y[k])) == np.binary_repr(z[k]) for k in range(500)]):\n",
    "        return \"Failed\"\n",
    "    \n",
    "    if not all([str(Binary(x[k]) * y[k]) == np.binary_repr(w[k]) for k in range(500)]):\n",
    "        return \"Failed\"\n",
    "    \n",
    "    return \"Passed\""
   ]
  }
 ],
 "metadata": {
  "kernelspec": {
   "display_name": "Python 3",
   "language": "python",
   "name": "python3"
  },
  "language_info": {
   "codemirror_mode": {
    "name": "ipython",
    "version": 3
   },
   "file_extension": ".py",
   "mimetype": "text/x-python",
   "name": "python",
   "nbconvert_exporter": "python",
   "pygments_lexer": "ipython3",
   "version": "3.8.5"
  }
 },
 "nbformat": 4,
 "nbformat_minor": 4
}
